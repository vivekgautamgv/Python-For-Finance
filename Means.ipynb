{
  "nbformat": 4,
  "nbformat_minor": 0,
  "metadata": {
    "colab": {
      "provenance": [],
      "authorship_tag": "ABX9TyOy2U1gWaD7uaGTdtCOjee5",
      "include_colab_link": true
    },
    "kernelspec": {
      "name": "python3",
      "display_name": "Python 3"
    },
    "language_info": {
      "name": "python"
    }
  },
  "cells": [
    {
      "cell_type": "markdown",
      "metadata": {
        "id": "view-in-github",
        "colab_type": "text"
      },
      "source": [
        "<a href=\"https://colab.research.google.com/github/vivekgautamgv/Python-For-Finance/blob/main/Means.ipynb\" target=\"_parent\"><img src=\"https://colab.research.google.com/assets/colab-badge.svg\" alt=\"Open In Colab\"/></a>"
      ]
    },
    {
      "cell_type": "code",
      "execution_count": null,
      "metadata": {
        "colab": {
          "base_uri": "https://localhost:8080/"
        },
        "id": "I0vlnmC2Z4xj",
        "outputId": "7747818c-d6db-4500-9152-79cc70d94a41"
      },
      "outputs": [
        {
          "output_type": "stream",
          "name": "stdout",
          "text": [
            "Mean of x1: 29 / 8 = 3.625\n",
            "Mean of x2: 129 / 9 = 14.333333333333334\n"
          ]
        }
      ],
      "source": [
        "\n",
        "# Two useful statistical libraries\n",
        "import scipy.stats as stats\n",
        "import numpy as np\n",
        "\n",
        "# We'll use these two data sets as examples\n",
        "x1 = [1, 2, 2, 3, 4, 5, 5, 7]\n",
        "x2 = x1 + [100]\n",
        "\n",
        "print('Mean of x1:', sum(x1), '/', len(x1), '=', np.mean(x1))\n",
        "print('Mean of x2:', sum(x2), '/', len(x2), '=', np.mean(x2))"
      ]
    },
    {
      "cell_type": "code",
      "source": [
        "print('Median of x1:', np.median(x1))\n",
        "print('Median of x2:', np.median(x2))"
      ],
      "metadata": {
        "colab": {
          "base_uri": "https://localhost:8080/"
        },
        "id": "rw5H3pU_cc5X",
        "outputId": "ea4919d3-b118-41a8-a0c8-3a0aee43a3d4"
      },
      "execution_count": null,
      "outputs": [
        {
          "output_type": "stream",
          "name": "stdout",
          "text": [
            "Median of x1: 3.5\n",
            "Median of x2: 4.0\n"
          ]
        }
      ]
    },
    {
      "cell_type": "markdown",
      "source": [
        "# MODE"
      ],
      "metadata": {
        "id": "_qUu0d8ecoOw"
      }
    },
    {
      "cell_type": "code",
      "source": [
        "#mode\n",
        "print('One mode of x1:', stats.mode(x1).mode)\n",
        "\n",
        "def mode(l):\n",
        "    # Count the number of times each element appears in the list.\n",
        "    counts = {}\n",
        "    for e in l:\n",
        "        if e in counts:\n",
        "            counts[e] += 1\n",
        "        else:\n",
        "            counts[e] = 1\n",
        "\n",
        "    # Return the elements that appear the most times\n",
        "    maxcount = 0\n",
        "    modes = {}\n",
        "    for (key, value) in counts.items():\n",
        "        if value > maxcount:\n",
        "            maxcount = value\n",
        "            modes = {key}\n",
        "        elif value == maxcount:\n",
        "            modes.add(key)\n",
        "\n",
        "    if maxcount > 1 or len(l) == 1:\n",
        "        return list(modes)\n",
        "    return 'No mode'\n",
        "\n",
        "print('All of the modes of x1:', mode(x1))"
      ],
      "metadata": {
        "colab": {
          "base_uri": "https://localhost:8080/"
        },
        "id": "hHfvLZwpcfk5",
        "outputId": "d4632688-d967-4449-db36-b8739d05fdb5"
      },
      "execution_count": null,
      "outputs": [
        {
          "output_type": "stream",
          "name": "stdout",
          "text": [
            "One mode of x1: 2\n",
            "All of the modes of x1: [2, 5]\n"
          ]
        }
      ]
    },
    {
      "cell_type": "code",
      "source": [
        "pip install quantrocket"
      ],
      "metadata": {
        "id": "7kWSalvKc8lj",
        "outputId": "29768e69-54d4-4501-a5c3-5d1a9edab261",
        "colab": {
          "base_uri": "https://localhost:8080/"
        }
      },
      "execution_count": null,
      "outputs": [
        {
          "output_type": "stream",
          "name": "stdout",
          "text": [
            "\u001b[31mERROR: Could not find a version that satisfies the requirement quantrocket (from versions: none)\u001b[0m\u001b[31m\n",
            "\u001b[0m\u001b[31mERROR: No matching distribution found for quantrocket\u001b[0m\u001b[31m\n",
            "\u001b[0m"
          ]
        }
      ]
    },
    {
      "cell_type": "code",
      "source": [
        "from quantrocket.master import get_securities\n",
        "from quantrocket import get_prices\n",
        "\n",
        "aapl_sid = get_securities(symbols=\"AAPL\", vendors='usstock').index[0]\n",
        "\n",
        "start = '2014-01-01'\n",
        "end = '2015-01-01'\n",
        "prices = get_prices('usstock-free-1min', data_frequency=\"daily\", sids=aapl_sid, fields='Close', start_date=start, end_date=end)\n",
        "closes = prices.loc[\"Close\"][aapl_sid]\n",
        "returns = closes.pct_change()[1:]\n",
        "print('Mode of returns:', mode(returns))\n",
        "\n",
        "# Since all of the returns are distinct, we use a frequency distribution to get an alternative mode.\n",
        "# np.histogram returns the frequency distribution over the bins as well as the endpoints of the bins\n",
        "hist, bins = np.histogram(returns, 20) # Break data up into 20 bins\n",
        "maxfreq = max(hist)\n",
        "# Find all of the bins that are hit with frequency maxfreq\n",
        "print('Mode of bins:', [(bins[i], bins[i+1]) for i, j in enumerate(hist) if j == maxfreq])"
      ],
      "metadata": {
        "colab": {
          "base_uri": "https://localhost:8080/",
          "height": 383
        },
        "id": "450c5weXc5MK",
        "outputId": "e9a0367a-5ff1-4f4b-cf52-720340540160"
      },
      "execution_count": null,
      "outputs": [
        {
          "output_type": "error",
          "ename": "ModuleNotFoundError",
          "evalue": "No module named 'quantrocket'",
          "traceback": [
            "\u001b[0;31m---------------------------------------------------------------------------\u001b[0m",
            "\u001b[0;31mModuleNotFoundError\u001b[0m                       Traceback (most recent call last)",
            "\u001b[0;32m<ipython-input-4-d42315c8b982>\u001b[0m in \u001b[0;36m<cell line: 1>\u001b[0;34m()\u001b[0m\n\u001b[0;32m----> 1\u001b[0;31m \u001b[0;32mfrom\u001b[0m \u001b[0mquantrocket\u001b[0m\u001b[0;34m.\u001b[0m\u001b[0mmaster\u001b[0m \u001b[0;32mimport\u001b[0m \u001b[0mget_securities\u001b[0m\u001b[0;34m\u001b[0m\u001b[0;34m\u001b[0m\u001b[0m\n\u001b[0m\u001b[1;32m      2\u001b[0m \u001b[0;32mfrom\u001b[0m \u001b[0mquantrocket\u001b[0m \u001b[0;32mimport\u001b[0m \u001b[0mget_prices\u001b[0m\u001b[0;34m\u001b[0m\u001b[0;34m\u001b[0m\u001b[0m\n\u001b[1;32m      3\u001b[0m \u001b[0;34m\u001b[0m\u001b[0m\n\u001b[1;32m      4\u001b[0m \u001b[0maapl_sid\u001b[0m \u001b[0;34m=\u001b[0m \u001b[0mget_securities\u001b[0m\u001b[0;34m(\u001b[0m\u001b[0msymbols\u001b[0m\u001b[0;34m=\u001b[0m\u001b[0;34m\"AAPL\"\u001b[0m\u001b[0;34m,\u001b[0m \u001b[0mvendors\u001b[0m\u001b[0;34m=\u001b[0m\u001b[0;34m'usstock'\u001b[0m\u001b[0;34m)\u001b[0m\u001b[0;34m.\u001b[0m\u001b[0mindex\u001b[0m\u001b[0;34m[\u001b[0m\u001b[0;36m0\u001b[0m\u001b[0;34m]\u001b[0m\u001b[0;34m\u001b[0m\u001b[0;34m\u001b[0m\u001b[0m\n\u001b[1;32m      5\u001b[0m \u001b[0;34m\u001b[0m\u001b[0m\n",
            "\u001b[0;31mModuleNotFoundError\u001b[0m: No module named 'quantrocket'",
            "",
            "\u001b[0;31m---------------------------------------------------------------------------\u001b[0;32m\nNOTE: If your import is failing due to a missing package, you can\nmanually install dependencies using either !pip or !apt.\n\nTo view examples of installing some common dependencies, click the\n\"Open Examples\" button below.\n\u001b[0;31m---------------------------------------------------------------------------\u001b[0m\n"
          ],
          "errorDetails": {
            "actions": [
              {
                "action": "open_url",
                "actionText": "Open Examples",
                "url": "/notebooks/snippets/importing_libraries.ipynb"
              }
            ]
          }
        }
      ]
    }
  ]
}