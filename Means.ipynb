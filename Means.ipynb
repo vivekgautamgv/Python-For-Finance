{
  "nbformat": 4,
  "nbformat_minor": 0,
  "metadata": {
    "colab": {
      "provenance": [],
      "authorship_tag": "ABX9TyNqfMfomXm6I91FE2oVCSz1",
      "include_colab_link": true
    },
    "kernelspec": {
      "name": "python3",
      "display_name": "Python 3"
    },
    "language_info": {
      "name": "python"
    }
  },
  "cells": [
    {
      "cell_type": "markdown",
      "metadata": {
        "id": "view-in-github",
        "colab_type": "text"
      },
      "source": [
        "<a href=\"https://colab.research.google.com/github/vivekgautamgv/Python-For-Finance/blob/main/Means.ipynb\" target=\"_parent\"><img src=\"https://colab.research.google.com/assets/colab-badge.svg\" alt=\"Open In Colab\"/></a>"
      ]
    },
    {
      "cell_type": "code",
      "execution_count": 1,
      "metadata": {
        "colab": {
          "base_uri": "https://localhost:8080/"
        },
        "id": "I0vlnmC2Z4xj",
        "outputId": "7747818c-d6db-4500-9152-79cc70d94a41"
      },
      "outputs": [
        {
          "output_type": "stream",
          "name": "stdout",
          "text": [
            "Mean of x1: 29 / 8 = 3.625\n",
            "Mean of x2: 129 / 9 = 14.333333333333334\n"
          ]
        }
      ],
      "source": [
        "\n",
        "# Two useful statistical libraries\n",
        "import scipy.stats as stats\n",
        "import numpy as np\n",
        "\n",
        "# We'll use these two data sets as examples\n",
        "x1 = [1, 2, 2, 3, 4, 5, 5, 7]\n",
        "x2 = x1 + [100]\n",
        "\n",
        "print('Mean of x1:', sum(x1), '/', len(x1), '=', np.mean(x1))\n",
        "print('Mean of x2:', sum(x2), '/', len(x2), '=', np.mean(x2))"
      ]
    },
    {
      "cell_type": "code",
      "source": [
        "print('Median of x1:', np.median(x1))\n",
        "print('Median of x2:', np.median(x2))"
      ],
      "metadata": {
        "colab": {
          "base_uri": "https://localhost:8080/"
        },
        "id": "rw5H3pU_cc5X",
        "outputId": "ea4919d3-b118-41a8-a0c8-3a0aee43a3d4"
      },
      "execution_count": 2,
      "outputs": [
        {
          "output_type": "stream",
          "name": "stdout",
          "text": [
            "Median of x1: 3.5\n",
            "Median of x2: 4.0\n"
          ]
        }
      ]
    },
    {
      "cell_type": "markdown",
      "source": [
        "# MODE"
      ],
      "metadata": {
        "id": "_qUu0d8ecoOw"
      }
    },
    {
      "cell_type": "code",
      "source": [
        "#mode\n",
        "print('One mode of x1:', stats.mode(x1).mode)\n",
        "\n",
        "def mode(l):\n",
        "    # Count the number of times each element appears in the list\n",
        "    counts = {}\n",
        "    for e in l:\n",
        "        if e in counts:\n",
        "            counts[e] += 1\n",
        "        else:\n",
        "            counts[e] = 1\n",
        "\n",
        "    # Return the elements that appear the most times\n",
        "    maxcount = 0\n",
        "    modes = {}\n",
        "    for (key, value) in counts.items():\n",
        "        if value > maxcount:\n",
        "            maxcount = value\n",
        "            modes = {key}\n",
        "        elif value == maxcount:\n",
        "            modes.add(key)\n",
        "\n",
        "    if maxcount > 1 or len(l) == 1:\n",
        "        return list(modes)\n",
        "    return 'No mode'\n",
        "\n",
        "print('All of the modes of x1:', mode(x1))"
      ],
      "metadata": {
        "colab": {
          "base_uri": "https://localhost:8080/"
        },
        "id": "hHfvLZwpcfk5",
        "outputId": "d4632688-d967-4449-db36-b8739d05fdb5"
      },
      "execution_count": 3,
      "outputs": [
        {
          "output_type": "stream",
          "name": "stdout",
          "text": [
            "One mode of x1: 2\n",
            "All of the modes of x1: [2, 5]\n"
          ]
        }
      ]
    }
  ]
}