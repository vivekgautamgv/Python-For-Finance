{
  "nbformat": 4,
  "nbformat_minor": 0,
  "metadata": {
    "colab": {
      "provenance": [],
      "authorship_tag": "ABX9TyPIrSVJV1pQYPesJHxiiNvt",
      "include_colab_link": true
    },
    "kernelspec": {
      "name": "python3",
      "display_name": "Python 3"
    },
    "language_info": {
      "name": "python"
    }
  },
  "cells": [
    {
      "cell_type": "markdown",
      "metadata": {
        "id": "view-in-github",
        "colab_type": "text"
      },
      "source": [
        "<a href=\"https://colab.research.google.com/github/vivekgautamgv/Python-For-Finance/blob/main/Day_1.ipynb\" target=\"_parent\"><img src=\"https://colab.research.google.com/assets/colab-badge.svg\" alt=\"Open In Colab\"/></a>"
      ]
    },
    {
      "cell_type": "code",
      "execution_count": 1,
      "metadata": {
        "id": "-_ndiAGdY6c2"
      },
      "outputs": [],
      "source": [
        "import pandas as pd\n",
        "import numpy as np\n",
        "import matplotlib.pyplot as plt\n",
        "import seaborn as sns"
      ]
    },
    {
      "cell_type": "code",
      "source": [
        "stock_list = [3.5,5,2,8,4.2]"
      ],
      "metadata": {
        "id": "WwMhuW2MaaxC"
      },
      "execution_count": 2,
      "outputs": []
    },
    {
      "cell_type": "code",
      "source": [
        "returns = np.array(stock_list)\n",
        "print(returns,type(returns))"
      ],
      "metadata": {
        "colab": {
          "base_uri": "https://localhost:8080/"
        },
        "id": "k8OUSA9Qakz7",
        "outputId": "1ca9d0f7-e810-4c6e-c038-12d23f1a1bd1"
      },
      "execution_count": 3,
      "outputs": [
        {
          "output_type": "stream",
          "name": "stdout",
          "text": [
            "[3.5 5.  2.  8.  4.2] <class 'numpy.ndarray'>\n"
          ]
        }
      ]
    },
    {
      "cell_type": "code",
      "source": [
        "A = np.array([[1,2],[3,4]])\n",
        "print(A,type(A))"
      ],
      "metadata": {
        "colab": {
          "base_uri": "https://localhost:8080/"
        },
        "id": "QE-Q22PAa1Kl",
        "outputId": "a9605677-67b9-4ca7-e9da-c87a2158686a"
      },
      "execution_count": 4,
      "outputs": [
        {
          "output_type": "stream",
          "name": "stdout",
          "text": [
            "[[1 2]\n",
            " [3 4]] <class 'numpy.ndarray'>\n"
          ]
        }
      ]
    },
    {
      "cell_type": "code",
      "source": [
        "print(A.shape)"
      ],
      "metadata": {
        "colab": {
          "base_uri": "https://localhost:8080/"
        },
        "id": "dzjJD_albI9o",
        "outputId": "cfa5b805-c619-45cd-a015-77ff6953c866"
      },
      "execution_count": 5,
      "outputs": [
        {
          "output_type": "stream",
          "name": "stdout",
          "text": [
            "(2, 2)\n"
          ]
        }
      ]
    },
    {
      "cell_type": "code",
      "source": [
        "print(returns[1:3])"
      ],
      "metadata": {
        "colab": {
          "base_uri": "https://localhost:8080/"
        },
        "id": "3A7PXg_ebK_e",
        "outputId": "e3306da9-a09b-456b-e01d-0552be024dba"
      },
      "execution_count": 6,
      "outputs": [
        {
          "output_type": "stream",
          "name": "stdout",
          "text": [
            "[5. 2.]\n"
          ]
        }
      ]
    },
    {
      "cell_type": "markdown",
      "source": [
        "Functions built into NumPy can be easily called on arrays. Most functions are applied to an array element-wise (as scalar multiplication is). For example, if we call log() on an array, the logarithm will be taken of each element."
      ],
      "metadata": {
        "id": "txjgdwOGbedw"
      }
    },
    {
      "cell_type": "code",
      "source": [
        "print(np.log(returns))"
      ],
      "metadata": {
        "colab": {
          "base_uri": "https://localhost:8080/"
        },
        "id": "mjIEDQ4ebYob",
        "outputId": "7dba1537-1157-41d5-a22e-52ec0946c02a"
      },
      "execution_count": 7,
      "outputs": [
        {
          "output_type": "stream",
          "name": "stdout",
          "text": [
            "[1.25276297 1.60943791 0.69314718 2.07944154 1.43508453]\n"
          ]
        }
      ]
    },
    {
      "cell_type": "markdown",
      "source": [
        "Some functions return a single value. This is because they treat the array as a collection (similar to a list), performing the designated function. For example, the mean() function will do exactly what you expect, calculating the mean of an array."
      ],
      "metadata": {
        "id": "e2vEfqunbnZ5"
      }
    },
    {
      "cell_type": "code",
      "source": [
        "print(np.mean(returns))"
      ],
      "metadata": {
        "colab": {
          "base_uri": "https://localhost:8080/"
        },
        "id": "VQPFxfvbbkMq",
        "outputId": "f742a970-1a47-4ae5-adf4-e008508d2658"
      },
      "execution_count": 8,
      "outputs": [
        {
          "output_type": "stream",
          "name": "stdout",
          "text": [
            "4.54\n"
          ]
        }
      ]
    },
    {
      "cell_type": "markdown",
      "source": [
        "\n",
        "Or the max() function will return the maximum element of an array."
      ],
      "metadata": {
        "id": "3U8DaPrub4z6"
      }
    },
    {
      "cell_type": "code",
      "source": [
        "np.max(returns)"
      ],
      "metadata": {
        "colab": {
          "base_uri": "https://localhost:8080/"
        },
        "id": "jZo0nKkRb2vq",
        "outputId": "b05ccf56-7d94-49fb-f5a8-d89f19244f10"
      },
      "execution_count": 9,
      "outputs": [
        {
          "output_type": "execute_result",
          "data": {
            "text/plain": [
              "8.0"
            ]
          },
          "metadata": {},
          "execution_count": 9
        }
      ]
    },
    {
      "cell_type": "markdown",
      "source": [
        "# Return to the returns\n",
        "\n",
        "Now let's modify our returns array with scalar values. If we add a scalar value to an array it will be added to every element of the array. If we multiply an array by a scalar value it will be multiplied against every element of the array. If we do both, both will happen!"
      ],
      "metadata": {
        "id": "UVw1pJo1b_81"
      }
    },
    {
      "cell_type": "code",
      "source": [
        "returns*2 + 5"
      ],
      "metadata": {
        "colab": {
          "base_uri": "https://localhost:8080/"
        },
        "id": "jksdRIi6b7pY",
        "outputId": "7b1f8dd4-8883-44da-9dfa-d3d29091738c"
      },
      "execution_count": 10,
      "outputs": [
        {
          "output_type": "execute_result",
          "data": {
            "text/plain": [
              "array([12. , 15. ,  9. , 21. , 13.4])"
            ]
          },
          "metadata": {},
          "execution_count": 10
        }
      ]
    },
    {
      "cell_type": "markdown",
      "source": [
        "\n",
        "NumPy also has functions specifically built to operate on arrays. Let's take the mean and standard deviation of this group of returns."
      ],
      "metadata": {
        "id": "PWMUK7BPcJ97"
      }
    },
    {
      "cell_type": "code",
      "source": [
        "print(\"Mean:\", np.mean(returns), \"Std Dev:\", np.std(returns))"
      ],
      "metadata": {
        "colab": {
          "base_uri": "https://localhost:8080/"
        },
        "id": "rOH6d-KgcKx5",
        "outputId": "36bf6311-1c4f-4973-e56e-c358ed9a5fd5"
      },
      "execution_count": 14,
      "outputs": [
        {
          "output_type": "stream",
          "name": "stdout",
          "text": [
            "Mean: 4.54 Std Dev: 1.9915822855207364\n"
          ]
        }
      ]
    },
    {
      "cell_type": "markdown",
      "source": [
        "the assets and returns that we will use to build a portfolio. This is because arrays are created with a fixed size. Their dimensions can't be changed without creating a new array."
      ],
      "metadata": {
        "id": "1EpK_LsEcjKg"
      }
    },
    {
      "cell_type": "code",
      "source": [
        "N = 10\n",
        "assets = np.zeros((N,100))\n",
        "returns = np.zeros((N,100))"
      ],
      "metadata": {
        "id": "g7YuK-AocUFP"
      },
      "execution_count": 15,
      "outputs": []
    },
    {
      "cell_type": "markdown",
      "source": [
        "This function, zeroes(), creates a NumPy array with the given dimensions that is entirely filled in with\n",
        ". We can pass a single value or a tuple of as many dimensions as we like. Passing in the tuple (N, 100), will return a two-dimensional array with\n",
        " rows and\n",
        " columns. Our result is a\n",
        " array.\n",
        "\n",
        "Now we will simulate a base asset. We want the universe of stocks to be correlated with each other so we will use this initial value to generate the others."
      ],
      "metadata": {
        "id": "wJ4glik0c6Su"
      }
    },
    {
      "cell_type": "code",
      "source": [
        "R_1 = np.random.normal(1.01, 0.03, 100)\n",
        "returns[0] = R_1\n",
        "assets[0] = np.cumprod(R_1)"
      ],
      "metadata": {
        "id": "xmbBtvupc7V6"
      },
      "execution_count": 17,
      "outputs": []
    },
    {
      "cell_type": "markdown",
      "source": [
        "The random module in NumPy is exceedingly useful. It contains methods for sampling from many different probability distributions, In this case we draw N = 100\n",
        " random samples from a normal distribution with mean 1.01 and standard deviation 0.03\n",
        ". We treat these as the daily percentage returns of our asset and take the cumulative product of these samples to get the current price."
      ],
      "metadata": {
        "id": "ljr6yD7jfAqF"
      }
    },
    {
      "cell_type": "markdown",
      "source": [
        "The way we have generated our universe, the individual Ri\n",
        " vectors are each 1-dimensional arrays and the returns and assets variables contain 2-dimensional arrays. Above, we set the initial row of both returns and assets to be the first Ri\n",
        " vector and the cumulative asset price based on those returns, respectively."
      ],
      "metadata": {
        "id": "3bSaDvH4fW7G"
      }
    },
    {
      "cell_type": "code",
      "source": [
        "#Generate assets that are correlated with R_1\n",
        "for i in range(1, N):\n",
        "    R_i = R_1 + np.random.normal(0.001, 0.02, 100)\n",
        "    returns[i] = R_i # Set each row of returns equal to the new R_i array\n",
        "    assets[i] = np.cumprod(R_i)\n",
        "\n",
        "mean_returns = [(np.mean(R) - 1)*100 for R in returns]\n",
        "return_volatilities = [np.std(R) for R in returns]"
      ],
      "metadata": {
        "id": "FnSVV7PXfWfP"
      },
      "execution_count": 19,
      "outputs": []
    },
    {
      "cell_type": "code",
      "source": [
        "\n",
        "plt.bar(np.arange(len(mean_returns)), mean_returns)\n",
        "plt.xlabel('Stock')\n",
        "plt.ylabel('Returns')\n",
        "plt.title('Returns for {0} Random Assets'.format(N));"
      ],
      "metadata": {
        "colab": {
          "base_uri": "https://localhost:8080/",
          "height": 472
        },
        "id": "tBuB7cVBfNY8",
        "outputId": "b9630494-5508-4115-dbe1-cd640df41a79"
      },
      "execution_count": 20,
      "outputs": [
        {
          "output_type": "display_data",
          "data": {
            "text/plain": [
              "<Figure size 640x480 with 1 Axes>"
            ],
            "image/png": "[encoded data removed]"
          },
          "metadata": {}
        }
      ]
    }
  ]
}