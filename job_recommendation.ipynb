{
  "nbformat": 4,
  "nbformat_minor": 0,
  "metadata": {
    "colab": {
      "provenance": [],
      "authorship_tag": "ABX9TyM3s1fZyVLDkpJZ3Dmhr9SN",
      "include_colab_link": true
    },
    "kernelspec": {
      "name": "python3",
      "display_name": "Python 3"
    },
    "language_info": {
      "name": "python"
    }
  },
  "cells": [
    {
      "cell_type": "markdown",
      "metadata": {
        "id": "view-in-github",
        "colab_type": "text"
      },
      "source": [
        "<a href=\"https://colab.research.google.com/github/vivekgautamgv/Python-For-Finance/blob/main/job_recommendation.ipynb\" target=\"_parent\"><img src=\"https://colab.research.google.com/assets/colab-badge.svg\" alt=\"Open In Colab\"/></a>"
      ]
    },
    {
      "cell_type": "code",
      "source": [
        "import pandas as pd\n",
        "from sklearn.feature_extraction.text import TfidfVectorizer\n",
        "from sklearn.metrics.pairwise import cosine_similarity\n",
        "\n",
        "# Sample dataset (You can replace this with loading from an Excel file)\n",
        "data = {\n",
        "    'Company Name': [\n",
        "        'TechCorp', 'BizSoft', 'Innovate Solutions', 'GreenThumb', 'FixIt Co.', 'DataWave', 'CodeWorks',\n",
        "        'Webify', 'SoftSolutions', 'AgriLife', 'MediCare', 'PlumbCo', 'ElectroWorks', 'GreenScape',\n",
        "        'FarmFresh', 'UrbanTech', 'GigaSoft', 'AutoFix', 'HealthFirst', 'BrightHomes'\n",
        "    ],\n",
        "    'Job Title': [\n",
        "        'Data Analyst', 'Software Developer', 'Web Developer', 'Gardener', 'Plumber', 'Data Scientist',\n",
        "        'App Developer', 'Full Stack Developer', 'UX Designer', 'Agricultural Engineer', 'Nurse', 'Plumber',\n",
        "        'Electrician', 'Landscaper', 'Farm Manager', 'IT Support', 'Machine Learning Engineer', 'Mechanic',\n",
        "        'Doctor', 'Interior Designer'\n",
        "    ],\n",
        "    'Experience Required': [\n",
        "        2, 5, 3, 1, 3, 4, 2, 6, 3, 2, 4, 2, 3, 2, 5, 1, 4, 3, 7, 5\n",
        "    ],\n",
        "    'Skills Required': [\n",
        "        'Data Analysis, Programming',\n",
        "        'Programming, Web Development, App Development',\n",
        "        'Web Development, HTML, CSS, JavaScript',\n",
        "        'Gardening, Landscaping',\n",
        "        'Plumbing, Pipe Fitting',\n",
        "        'Data Analysis, Machine Learning, Python',\n",
        "        'Mobile App Development, Java, Swift',\n",
        "        'Full Stack Development, HTML, CSS, JavaScript, Backend Development',\n",
        "        'UX Design, Prototyping, Figma, Adobe XD',\n",
        "        'Agriculture, Engineering, Sustainability',\n",
        "        'Patient Care, Health Management, Nursing',\n",
        "        'Plumbing, Repair, Maintenance',\n",
        "        'Electrical Wiring, Circuit Repair',\n",
        "        'Landscaping, Gardening, Outdoor Design',\n",
        "        'Farm Management, Agriculture',\n",
        "        'IT Support, Network Troubleshooting',\n",
        "        'Machine Learning, Python, AI Development',\n",
        "        'Auto Repair, Mechanical Engineering',\n",
        "        'Surgery, General Medicine',\n",
        "        'Interior Design, Architecture, Space Planning'\n",
        "    ]\n",
        "}\n",
        "\n",
        "# Create the DataFrame\n",
        "df = pd.DataFrame(data)\n",
        "\n",
        "# User input\n",
        "user_input = {\n",
        "    'Job Title': 'Software Developer',\n",
        "    'Experience': 3,  # User's years of experience\n",
        "    'Skills': 'Programming, Web Development'\n",
        "}\n",
        "\n",
        "# Feature engineering: Combining relevant columns into a single feature for comparison\n",
        "df['Combined Features'] = df['Job Title'] + ' ' + df['Skills Required'] + ' ' + df['Experience Required'].astype(str)\n",
        "\n",
        "# Creating a similar combined feature for the user input\n",
        "user_combined_features = user_input['Job Title'] + ' ' + user_input['Skills'] + ' ' + str(user_input['Experience'])\n",
        "\n",
        "# Vectorization using TF-IDF to handle textual data\n",
        "vectorizer = TfidfVectorizer()\n",
        "all_vectors = vectorizer.fit_transform(pd.concat([df['Combined Features'], pd.Series([user_combined_features])]))\n",
        "\n",
        "# Cosine similarity calculation\n",
        "cosine_similarities = cosine_similarity(all_vectors[-1], all_vectors[:-1]).flatten()\n",
        "\n",
        "# Get the indices of the top 5 most similar jobs\n",
        "top_5_indices = cosine_similarities.argsort()[-5:][::-1]\n",
        "\n",
        "# Output the top 5 recommended jobs\n",
        "recommended_jobs = df.iloc[top_5_indices]\n",
        "\n",
        "print(\"Top 5 Recommended Jobs for You:\")\n",
        "for idx, job in recommended_jobs.iterrows():\n",
        "    print(f\"Company Name: {job['Company Name']}, \\nJob Title: {job['Job Title']}, \"\n",
        "          f\"\\nExperience Required: {job['Experience Required']} years, \\nSkills Required: {job['Skills Required']}\\n\\n\")\n"
      ],
      "metadata": {
        "colab": {
          "base_uri": "https://localhost:8080/"
        },
        "id": "hkBZ9xXkgxDK",
        "outputId": "c4ed167c-5540-4c68-c202-c50ac28aae2e"
      },
      "execution_count": 10,
      "outputs": [
        {
          "output_type": "stream",
          "name": "stdout",
          "text": [
            "Top 5 Recommended Jobs for You:\n",
            "Company Name: BizSoft, \n",
            "Job Title: Software Developer, \n",
            "Experience Required: 5 years, \n",
            "Skills Required: Programming, Web Development, App Development\n",
            "\n",
            "\n",
            "Company Name: Innovate Solutions, \n",
            "Job Title: Web Developer, \n",
            "Experience Required: 3 years, \n",
            "Skills Required: Web Development, HTML, CSS, JavaScript\n",
            "\n",
            "\n",
            "Company Name: Webify, \n",
            "Job Title: Full Stack Developer, \n",
            "Experience Required: 6 years, \n",
            "Skills Required: Full Stack Development, HTML, CSS, JavaScript, Backend Development\n",
            "\n",
            "\n",
            "Company Name: CodeWorks, \n",
            "Job Title: App Developer, \n",
            "Experience Required: 2 years, \n",
            "Skills Required: Mobile App Development, Java, Swift\n",
            "\n",
            "\n",
            "Company Name: TechCorp, \n",
            "Job Title: Data Analyst, \n",
            "Experience Required: 2 years, \n",
            "Skills Required: Data Analysis, Programming\n",
            "\n",
            "\n"
          ]
        }
      ]
    }
  ]
}