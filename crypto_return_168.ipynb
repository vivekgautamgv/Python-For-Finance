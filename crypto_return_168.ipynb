{
  "nbformat": 4,
  "nbformat_minor": 0,
  "metadata": {
    "colab": {
      "provenance": [],
      "authorship_tag": "ABX9TyPJj/hlAUakm764TMLDVZPi",
      "include_colab_link": true
    },
    "kernelspec": {
      "name": "python3",
      "display_name": "Python 3"
    },
    "language_info": {
      "name": "python"
    }
  },
  "cells": [
    {
      "cell_type": "markdown",
      "metadata": {
        "id": "view-in-github",
        "colab_type": "text"
      },
      "source": [
        "<a href=\"https://colab.research.google.com/github/vivekgautamgv/Python-For-Finance/blob/main/crypto_return_168.ipynb\" target=\"_parent\"><img src=\"https://colab.research.google.com/assets/colab-badge.svg\" alt=\"Open In Colab\"/></a>"
      ]
    },
    {
      "cell_type": "code",
      "execution_count": null,
      "metadata": {
        "id": "UmNTKxQgZvgg"
      },
      "outputs": [],
      "source": [
        "import pandas as pd\n",
        "import numpy as np\n",
        "import yfinance as yf\n",
        "import matplotlib.pyplot as plt\n",
        "\n",
        "# Define parameters\n",
        "symbol = 'BTC-USD'  # Crypto symbol\n",
        "start_date = '2020-01-01'\n",
        "end_date = '2024-01-01'\n",
        "short_window = 50\n",
        "long_window = 200\n",
        "\n",
        "# Download historical data\n",
        "data = yf.download(symbol, start=start_date, end=end_date)\n",
        "data['Short_MA'] = data['Close'].rolling(window=short_window, min_periods=1).mean()\n",
        "data['Long_MA'] = data['Close'].rolling(window=long_window, min_periods=1).mean()\n",
        "\n",
        "# Generate trading signals\n",
        "data['Signal'] = 0\n",
        "data['Signal'][short_window:] = np.where(data['Short_MA'][short_window:] > data['Long_MA'][short_window:], 1, 0)\n",
        "data['Position'] = data['Signal'].diff()\n",
        "\n",
        "# Backtesting the strategy\n",
        "initial_capital = 10000\n",
        "shares = 0\n",
        "capital = initial_capital\n",
        "position = 0\n",
        "equity = []\n",
        "trade_count = 0  # To count the number of trades\n",
        "\n",
        "for i in range(len(data)):\n",
        "    if data['Position'][i] == 1:\n",
        "        # Buy\n",
        "        shares = capital / data['Close'][i]\n",
        "        position = shares * data['Close'][i]\n",
        "        capital = 0\n",
        "        trade_count += 1  # Increment trade count on buy\n",
        "    elif data['Position'][i] == -1:\n",
        "        # Sell\n",
        "        capital = shares * data['Close'][i]\n",
        "        shares = 0\n",
        "        position = 0\n",
        "        trade_count += 1  # Increment trade count on sell\n",
        "    equity.append(capital + position)\n",
        "\n",
        "data['Equity'] = equity\n",
        "\n",
        "# Calculate returns and drawdown\n",
        "data['Returns'] = data['Equity'].pct_change()\n",
        "data['Cumulative_Returns'] = (1 + data['Returns']).cumprod() - 1\n",
        "data['Drawdown'] = data['Equity'] / data['Equity'].cummax() - 1\n",
        "\n",
        "# Plot results\n",
        "plt.figure(figsize=(14, 7))\n",
        "plt.subplot(2, 1, 1)\n",
        "plt.plot(data.index, data['Close'], label='Close Price')\n",
        "plt.plot(data.index, data['Short_MA'], label='50-Day MA')\n",
        "plt.plot(data.index, data['Long_MA'], label='200-Day MA')\n",
        "plt.title('Crypto Price and Moving Averages')\n",
        "plt.legend()\n",
        "\n",
        "plt.subplot(2, 1, 2)\n",
        "plt.plot(data.index, data['Cumulative_Returns'], label='Cumulative Returns')\n",
        "plt.plot(data.index, data['Drawdown'], label='Drawdown')\n",
        "plt.title('Strategy Performance')\n",
        "plt.legend()\n",
        "\n",
        "plt.tight_layout()\n",
        "plt.show()\n",
        "\n",
        "# Print final results\n",
        "final_return_percentage = data['Cumulative_Returns'].iloc[-1] * 100\n",
        "final_equity = data['Equity'].iloc[-1]\n",
        "max_drawdown = data['Drawdown'].min()\n",
        "\n",
        "print(\"Total Invested amount : \",initial_capital)\n",
        "print(f\"Final Return Percentage: {final_return_percentage:.2f}%\")\n",
        "print(f\"Final Equity: ${final_equity:.2f}\")\n",
        "print(f\"Total Trades: {trade_count}\")\n",
        "print(f\"Max Drawdown: {-max_drawdown * 100:.2f}%\")\n"
      ]
    }
  ]
}