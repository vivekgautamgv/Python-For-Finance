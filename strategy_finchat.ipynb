{
  "cells": [
    {
      "cell_type": "markdown",
      "metadata": {
        "id": "view-in-github",
        "colab_type": "text"
      },
      "source": [
        "<a href=\"https://colab.research.google.com/github/vivekgautamgv/Python-For-Finance/blob/main/strategy_finchat.ipynb\" target=\"_parent\"><img src=\"https://colab.research.google.com/assets/colab-badge.svg\" alt=\"Open In Colab\"/></a>"
      ]
    },
    {
      "cell_type": "code",
      "execution_count": null,
      "metadata": {
        "colab": {
          "base_uri": "https://localhost:8080/"
        },
        "id": "tDBgPkr3HDrs",
        "outputId": "0de6ab03-0eec-4f08-ffd7-d3f103011f99"
      },
      "outputs": [
        {
          "name": "stdout",
          "output_type": "stream",
          "text": [
            "Collecting numpy-financial\n",
            "  Downloading numpy_financial-1.0.0-py3-none-any.whl.metadata (2.2 kB)\n",
            "Requirement already satisfied: numpy>=1.15 in /usr/local/lib/python3.10/dist-packages (from numpy-financial) (1.26.4)\n",
            "Downloading numpy_financial-1.0.0-py3-none-any.whl (14 kB)\n",
            "Installing collected packages: numpy-financial\n",
            "Successfully installed numpy-financial-1.0.0\n"
          ]
        }
      ],
      "source": [
        "!pip install numpy-financial"
      ]
    },
    {
      "cell_type": "code",
      "execution_count": null,
      "metadata": {
        "id": "x5mvtWYHuoeR"
      },
      "outputs": [],
      "source": []
    },
    {
      "cell_type": "code",
      "execution_count": null,
      "metadata": {
        "colab": {
          "base_uri": "https://localhost:8080/"
        },
        "id": "AJUXGXPCj_5x",
        "outputId": "86f67989-7d0f-40b1-fdfb-9bb39133e35c"
      },
      "outputs": [
        {
          "name": "stdout",
          "output_type": "stream",
          "text": [
            "Collecting numpy_financial\n",
            "  Downloading numpy_financial-1.0.0-py3-none-any.whl.metadata (2.2 kB)\n",
            "Requirement already satisfied: numpy>=1.15 in /usr/local/lib/python3.10/dist-packages (from numpy_financial) (1.26.4)\n",
            "Downloading numpy_financial-1.0.0-py3-none-any.whl (14 kB)\n",
            "Installing collected packages: numpy_financial\n",
            "Successfully installed numpy_financial-1.0.0\n"
          ]
        }
      ],
      "source": [
        "!pip install numpy_financial"
      ]
    },
    {
      "cell_type": "code",
      "source": [
        "pip install numpy_financial\n"
      ],
      "metadata": {
        "colab": {
          "base_uri": "https://localhost:8080/"
        },
        "id": "HnjheepzsvhM",
        "outputId": "829a68f7-3c00-4c96-b065-b6b0fed653fc"
      },
      "execution_count": 2,
      "outputs": [
        {
          "output_type": "stream",
          "name": "stdout",
          "text": [
            "Collecting numpy_financial\n",
            "  Downloading numpy_financial-1.0.0-py3-none-any.whl.metadata (2.2 kB)\n",
            "Requirement already satisfied: numpy>=1.15 in /usr/local/lib/python3.10/dist-packages (from numpy_financial) (1.26.4)\n",
            "Downloading numpy_financial-1.0.0-py3-none-any.whl (14 kB)\n",
            "Installing collected packages: numpy_financial\n",
            "Successfully installed numpy_financial-1.0.0\n"
          ]
        }
      ]
    },
    {
      "cell_type": "code",
      "source": [
        "# Updated Breakdown: Now accounts for Mutual Fund Names and fixes the pie chart issue\n",
        "\n",
        "import pandas as pd\n",
        "import numpy as np\n",
        "import yfinance as yf\n",
        "import numpy_financial as npf\n",
        "import matplotlib.pyplot as plt\n",
        "\n",
        "# Load Mutual Fund Data, you will get from Keggle se\n",
        "mutual_fund_data = pd.read_csv('/content/sample_data/comprehensive_mutual_funds_data.csv')\n",
        "\n",
        "# Step 1: Get user input, as deviced earlier 15 inputs but abhi shuruat j to will take some limited inouts\n",
        "def get_user_input():\n",
        "    financial_goal = float(input(\"Enter your financial goal amount: \"))\n",
        "    goal_timeline_months = int(input(\"Enter goal timeline in months: \"))\n",
        "    risk_min = int(input(\"Enter your minimum risk tolerance (0-6): \"))\n",
        "    risk_max = int(input(\"Enter your maximum risk tolerance (0-6): \"))\n",
        "    monthly_income = float(input(\"Enter your current monthly income: \"))\n",
        "    monthly_expenses = float(input(\"Enter your monthly expenses: \"))\n",
        "    previous_savings = float(input(\"Enter your previous savings: \"))\n",
        "\n",
        "    return {\n",
        "        \"financial_goal\": financial_goal,\n",
        "        \"goal_timeline_months\": goal_timeline_months,\n",
        "        \"risk_min\": risk_min,\n",
        "        \"risk_max\": risk_max,\n",
        "        \"monthly_income\": monthly_income,\n",
        "        \"monthly_expenses\": monthly_expenses,\n",
        "        \"previous_savings\": previous_savings\n",
        "    }\n",
        "\n",
        "# Step 2: Filter mutual funds based on risk tolerance, data basd on the dataset\n",
        "def filter_mutual_funds(risk_min, risk_max):\n",
        "    return mutual_fund_data[(mutual_fund_data['risk_level'] >= risk_min) &\n",
        "                            (mutual_fund_data['risk_level'] <= risk_max)]\n",
        "\n",
        "# Step 3: Select top 3 mutual funds\n",
        "def select_top_mutual_funds(filtered_funds):\n",
        "    # Sort funds by best 1-year returns and pick the top 3\n",
        "    return filtered_funds.sort_values(by='returns_1yr', ascending=False).head(3)\n",
        "\n",
        "# Step 4: Fetch live data for gold and stocks\n",
        "def fetch_live_data():\n",
        "    gold_data = yf.download(\"GC=F\", start=\"2022-01-01\", end=\"2023-01-01\")\n",
        "    stock_data = yf.download(\"^NSEI\", period=\"6mo\", interval=\"1d\")  # NSE Nifty 50 index\n",
        "    return gold_data, stock_data\n",
        "\n",
        "# Step 5: Calculate expected returns\n",
        "def calculate_expected_returns(top_funds, gold_data, stock_data):\n",
        "    stock_returns = (stock_data['Close'].iloc[-1] - stock_data['Close'].iloc[0]) / stock_data['Close'].iloc[0] * 100\n",
        "    gold_returns = (gold_data['Close'].iloc[-1] - gold_data['Close'].iloc[0]) / gold_data['Close'].iloc[0] * 100\n",
        "    mutual_fund_returns = top_funds['returns_1yr'].mean()\n",
        "\n",
        "    return mutual_fund_returns, stock_returns, gold_returns\n",
        "\n",
        "# Step 6: Dynamic SIP Allocation for Mutual Funds and lump sum for stocks/gold\n",
        "def sip_allocation(monthly_savings):\n",
        "    mutual_fund_sip = np.random.uniform(0.40, 0.50) * monthly_savings\n",
        "    remaining_savings = monthly_savings - mutual_fund_sip\n",
        "    gold_investment = remaining_savings * 0.60\n",
        "    stock_investment = remaining_savings * 0.40\n",
        "    return mutual_fund_sip, gold_investment, stock_investment\n",
        "\n",
        "# Step 7: Calculate future value of lump sum investments and monthly SIPs\n",
        "def calculate_future_value(month, mutual_fund_sip, gold_investment, stock_investment, mutual_fund_returns, gold_returns, stock_returns):\n",
        "    mutual_fund_future_value = npf.fv(mutual_fund_returns / 100 / 12, month, -mutual_fund_sip, 0)\n",
        "    gold_future_value = npf.fv(gold_returns / 100 / 12, month, 0, -gold_investment)\n",
        "    stock_future_value = npf.fv(stock_returns / 100 / 12, month, 0, -stock_investment)\n",
        "\n",
        "    total_future_value = mutual_fund_future_value + gold_future_value + stock_future_value\n",
        "    return total_future_value\n",
        "\n",
        "# Step 8: Dynamic investment plan for monthly investments\n",
        "def dynamic_investment_plan(user_input, top_funds, mutual_fund_returns, gold_returns, stock_returns):\n",
        "    monthly_savings = user_input['monthly_income'] - user_input['monthly_expenses']\n",
        "    months = user_input['goal_timeline_months']\n",
        "    total_future_value = 0\n",
        "\n",
        "    # Cumulative values to track total SIPs for the pie chart\n",
        "    total_mutual_fund_sip = 0\n",
        "    total_gold_investment = 0\n",
        "    total_stock_investment = 0\n",
        "\n",
        "    # Calculate future value with monthly contributions\n",
        "    for month in range(1, months + 1):\n",
        "        mutual_fund_sip, gold_investment, stock_investment = sip_allocation(monthly_savings)\n",
        "        total_future_value += calculate_future_value(month, mutual_fund_sip, gold_investment, stock_investment,\n",
        "                                                     mutual_fund_returns, gold_returns, stock_returns)\n",
        "        # Accumulate SIPs and investments for pie chart\n",
        "        total_mutual_fund_sip += mutual_fund_sip\n",
        "        total_gold_investment += gold_investment\n",
        "        total_stock_investment += stock_investment\n",
        "\n",
        "    # Show breakdown\n",
        "    print(f\"\\n--- Monthly Investment Breakdown ---\")\n",
        "    print(f\"Monthly Savings: ₹{monthly_savings:.2f}\")\n",
        "    print(f\"Mutual Funds SIP: ₹{mutual_fund_sip:.2f}\")\n",
        "    print(f\"Gold Investment: ₹{gold_investment:.2f}\")\n",
        "    print(f\"Stock Investment: ₹{stock_investment:.2f}\")\n",
        "    print(f\"Total Future Value: ₹{total_future_value:.2f}\")\n",
        "\n",
        "    return total_future_value, total_mutual_fund_sip, total_gold_investment, total_stock_investment\n",
        "\n",
        "# Step 9: Generate a financial plan\n",
        "def generate_financial_plan(user_input):\n",
        "    # Filter mutual funds by risk and select top 3\n",
        "    filtered_funds = filter_mutual_funds(user_input['risk_min'], user_input['risk_max'])\n",
        "    top_funds = select_top_mutual_funds(filtered_funds)\n",
        "\n",
        "    # Fetch gold and stock data\n",
        "    gold_data, stock_data = fetch_live_data()\n",
        "\n",
        "    # Calculate expected returns\n",
        "    mutual_fund_returns, stock_returns, gold_returns = calculate_expected_returns(top_funds, gold_data, stock_data)\n",
        "\n",
        "    # Get the future value based on dynamic allocation\n",
        "    total_future_value, total_mutual_fund_sip, total_gold_investment, total_stock_investment = dynamic_investment_plan(\n",
        "        user_input, top_funds, mutual_fund_returns, gold_returns, stock_returns)\n",
        "\n",
        "    # Display financial plan results\n",
        "    print(f\"\\nInitial capital: {user_input['previous_savings']:.2f}\")\n",
        "    print(f\"Capital after {user_input['goal_timeline_months']} months of investments: ₹{total_future_value:.2f}\")\n",
        "    print(f\"How close to target: {total_future_value / user_input['financial_goal'] * 100:.2f}%\")\n",
        "\n",
        "    # Display suggested mutual funds with SIPs\n",
        "    print(\"\\nSuggested Mutual Funds and SIP Amounts:\")\n",
        "    for idx, row in top_funds.iterrows():\n",
        "        fund_allocation_percentage = row['returns_1yr'] / top_funds['returns_1yr'].sum()  # Distribute based on returns\n",
        "        sip_amount = fund_allocation_percentage * total_mutual_fund_sip / user_input['goal_timeline_months']\n",
        "        print(f\"Scheme: {row['scheme_name']}, 1-Year Return: {row['returns_1yr']}%, SIP Amount: ₹{sip_amount:.2f}\")\n",
        "\n",
        "    # Visualization: Pie chart for investment distribution\n",
        "    labels = ['Mutual Funds', 'Gold', 'Stocks']\n",
        "    sizes = [total_mutual_fund_sip, total_gold_investment, total_stock_investment]\n",
        "    plt.pie(sizes, labels=labels, autopct='%1.1f%%', startangle=140)\n",
        "    plt.title('Investment Distribution')\n",
        "    plt.show()\n",
        "\n",
        "# Main function\n",
        "def main():\n",
        "    user_input = get_user_input()\n",
        "    generate_financial_plan(user_input)\n",
        "\n",
        "if __name__ == \"__main__\":\n",
        "    main()\n"
      ],
      "metadata": {
        "colab": {
          "base_uri": "https://localhost:8080/",
          "height": 862
        },
        "id": "dUWkLWFLvXsj",
        "outputId": "7e9efe22-1aaf-43a3-f2ce-ca5f5ec2d71e"
      },
      "execution_count": 10,
      "outputs": [
        {
          "name": "stdout",
          "output_type": "stream",
          "text": [
            "Enter your financial goal amount: 1000000\n",
            "Enter goal timeline in months: 12\n",
            "Enter your minimum risk tolerance (0-6): 5\n",
            "Enter your maximum risk tolerance (0-6): 6\n",
            "Enter your current monthly income: 120000\n",
            "Enter your monthly expenses: 80000\n",
            "Enter your previous savings: 0\n"
          ]
        },
        {
          "output_type": "stream",
          "name": "stderr",
          "text": [
            "[*********************100%***********************]  1 of 1 completed\n",
            "[*********************100%***********************]  1 of 1 completed\n"
          ]
        },
        {
          "output_type": "stream",
          "name": "stdout",
          "text": [
            "\n",
            "--- Monthly Investment Breakdown ---\n",
            "Monthly Savings: ₹40000.00\n",
            "Mutual Funds SIP: ₹19853.52\n",
            "Gold Investment: ₹12087.89\n",
            "Stock Investment: ₹8058.59\n",
            "Total Future Value: ₹1807185.17\n",
            "\n",
            "Initial capital: 0.00\n",
            "Capital after 12 months of investments: ₹1807185.17\n",
            "How close to target: 180.72%\n",
            "\n",
            "Suggested Mutual Funds and SIP Amounts:\n",
            "Scheme: ICICI Pru Infrastructure Fund, 1-Year Return: 24.3%, SIP Amount: ₹6284.36\n",
            "Scheme: Kotak Infrastructure & Ecoc. Reform-SP-DirGrowth, 1-Year Return: 23.2%, SIP Amount: ₹5999.88\n",
            "Scheme: ICICI Pru BHARAT 22 FOF  – Direct Growth, 1-Year Return: 22.1%, SIP Amount: ₹5715.40\n"
          ]
        },
        {
          "output_type": "display_data",
          "data": {
            "text/plain": [
              "<Figure size 640x480 with 1 Axes>"
            ],
            "image/png": "[encoded data removed]"
          },
          "metadata": {}
        }
      ]
    }
  ],
  "metadata": {
    "colab": {
      "provenance": [],
      "authorship_tag": "ABX9TyMx9FQBdcyzb9homxv+HL7f",
      "include_colab_link": true
    },
    "kernelspec": {
      "display_name": "Python 3",
      "name": "python3"
    },
    "language_info": {
      "name": "python"
    }
  },
  "nbformat": 4,
  "nbformat_minor": 0
}