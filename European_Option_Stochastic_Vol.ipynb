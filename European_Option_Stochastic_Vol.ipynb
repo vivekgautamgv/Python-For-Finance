{
  "nbformat": 4,
  "nbformat_minor": 0,
  "metadata": {
    "colab": {
      "provenance": [],
      "authorship_tag": "ABX9TyM03XSTE9AKCo4ZXFolTpWW",
      "include_colab_link": true
    },
    "kernelspec": {
      "name": "python3",
      "display_name": "Python 3"
    },
    "language_info": {
      "name": "python"
    }
  },
  "cells": [
    {
      "cell_type": "markdown",
      "metadata": {
        "id": "view-in-github",
        "colab_type": "text"
      },
      "source": [
        "<a href=\"https://colab.research.google.com/github/vivekgautamgv/Python-For-Finance/blob/main/European_Option_Stochastic_Vol.ipynb\" target=\"_parent\"><img src=\"https://colab.research.google.com/assets/colab-badge.svg\" alt=\"Open In Colab\"/></a>"
      ]
    },
    {
      "cell_type": "code",
      "execution_count": 1,
      "metadata": {
        "id": "5Deh7zX2RCTX"
      },
      "outputs": [],
      "source": [
        "\n",
        "\"\"\"\n",
        "Monte Carlo Option pricing for European options with stochastic volatility\n",
        "Simulations use standard Euler discretization.\n",
        "Price of the underlying asset follows Geometric Brownian Motion\n",
        "\"\"\"\n",
        "import numpy as np\n",
        "\n",
        "def heston_MC(S, K, T, r, V, q, rho, kappa, theta, sigma, CallPut, n, m):\n",
        "    '''\n",
        "    Monte Carlo option pricing for European options with stochastic volatility following the Heston\n",
        "    model\n",
        "\n",
        "    Args:\n",
        "        S - initial price of underlying asset                   kappa - mean reversion\n",
        "        K - strike price                                        theta - long-run variance\n",
        "        T - time to maturity                                    sigma - vol of vol\n",
        "        r - risk-free rate                                      CallPut - call or put\n",
        "        V - initial volatility of underlying asset              n - number of time steps in each path\n",
        "        q - dividend rate                                       m - number of paths for the simulation\n",
        "        rho - Brownian motions of price and volatility are\n",
        "              correlated by this value\n",
        "    '''\n",
        "    sims = list(np.zeros(m))\n",
        "    dt = T/n\n",
        "\n",
        "    for i in range(m):\n",
        "        W1 = np.random.standard_normal(size = n)*np.sqrt(dt)\n",
        "        W2 = np.random.standard_normal(size = n)*np.sqrt(dt)\n",
        "        Z = rho*W1 + np.sqrt(1-rho**2)*W2\n",
        "        St = S; Vt = V\n",
        "\n",
        "        for j in range(1,n):\n",
        "            St = St + (r*St*dt + np.sqrt(V)*St*W1[j])\n",
        "            Vt = Vt + kappa*(theta - Vt)*dt + sigma*np.sqrt(Vt)*Z[j]\n",
        "        sims[i] = St\n",
        "\n",
        "    if CallPut == 'Call':\n",
        "        payoff = np.array(sims) - K\n",
        "        payoff[payoff < 0] = 0\n",
        "    elif CallPut == 'Put':\n",
        "        payoff = np.array(sims)*(-1) + K\n",
        "        payoff[payoff < 0] = 0\n",
        "\n",
        "    return np.mean(payoff)*np.exp(-r*T)\n"
      ]
    }
  ]
}